{
 "cells": [
  {
   "cell_type": "markdown",
   "metadata": {},
   "source": [
    "### Raspagem dos Dados da Página : http://www.w3schools.io/file/yaml-sample-example/"
   ]
  },
  {
   "cell_type": "code",
   "execution_count": null,
   "metadata": {},
   "outputs": [],
   "source": [
    "from requests import get\n",
    "from bs4 import BeautifulSoup # Importando BeautifulSoup da Biblioteca bs4"
   ]
  },
  {
   "cell_type": "code",
   "execution_count": null,
   "metadata": {},
   "outputs": [],
   "source": [
    "text = get('http://www.w3schools.io/file/yaml-sample-example/')\n",
    "text # Resposta [200] = Positivo"
   ]
  },
  {
   "cell_type": "code",
   "execution_count": null,
   "metadata": {},
   "outputs": [],
   "source": [
    "text.text # Vendo o texto do site (para conferir)"
   ]
  },
  {
   "cell_type": "code",
   "execution_count": null,
   "metadata": {},
   "outputs": [],
   "source": [
    "yaml_sample = BeautifulSoup(text.text, 'html5lib')"
   ]
  },
  {
   "cell_type": "code",
   "execution_count": null,
   "metadata": {},
   "outputs": [],
   "source": [
    "yaml_sample"
   ]
  },
  {
   "cell_type": "markdown",
   "metadata": {},
   "source": [
    "### Extraindo o Exemplo YAML da Página"
   ]
  },
  {
   "cell_type": "code",
   "execution_count": null,
   "metadata": {},
   "outputs": [],
   "source": [
    "#yaml_sample.find_all('pre') # Extraindo a tag pre da classe 'chroma' que possui as classes \"c\" referentes aos hashtags dos comentários\n",
    "#sample_exe #Exemplo extraído\n",
    "#str(sample_exe)"
   ]
  },
  {
   "cell_type": "code",
   "execution_count": null,
   "metadata": {
    "scrolled": true
   },
   "outputs": [],
   "source": [
    "yaml_sample.find_all('span') # Extração mais detalhada da tag spam que contém os elementos dos comentários"
   ]
  },
  {
   "cell_type": "code",
   "execution_count": null,
   "metadata": {
    "scrolled": true
   },
   "outputs": [],
   "source": [
    "hash_tags = yaml_sample.find_all('span', attrs={\"class\": \"c\"})\n",
    "[comentario.text for comentario in hash_tags] # -> Colocando na lista os comentários extraídos"
   ]
  },
  {
   "cell_type": "markdown",
   "metadata": {},
   "source": [
    "### Utilizando o Regex para Extrair os Comentários do Exemplo"
   ]
  },
  {
   "cell_type": "code",
   "execution_count": null,
   "metadata": {},
   "outputs": [],
   "source": [
    "from re import findall, search #Importando da biblioteca re os utilitários necessários\n",
    "from yaml import dump"
   ]
  },
  {
   "cell_type": "code",
   "execution_count": null,
   "metadata": {},
   "outputs": [],
   "source": [
    "lista_coment = [] # Lista para receber os comentários sem as hash_tags, porém eles vem fatiados \n",
    "for j in [comentario.text for comentario in hash_tags]:\n",
    "    lista_coment.append(findall(r\"\\w+\", j)) #Uso do Regex para remover as hash_tags"
   ]
  },
  {
   "cell_type": "code",
   "execution_count": null,
   "metadata": {
    "scrolled": true
   },
   "outputs": [],
   "source": [
    "comentarios_tratados = [] #Lista para receber ps comentários sem as #\n",
    "\n",
    "for l in lista_coment:\n",
    "    comentarios_tratados.append(\" \".join(l)) #Função join para unir as strings que foram separadas"
   ]
  },
  {
   "cell_type": "code",
   "execution_count": null,
   "metadata": {
    "scrolled": true
   },
   "outputs": [],
   "source": [
    "comentarios_tratados #Comentários Tratados"
   ]
  },
  {
   "cell_type": "markdown",
   "metadata": {},
   "source": [
    "### Arquivo YAML com os Exemplos Extraídos do Arquivo YAML"
   ]
  },
  {
   "cell_type": "code",
   "execution_count": null,
   "metadata": {},
   "outputs": [],
   "source": [
    "comentarios_yaml = {\"Comentarios\" : comentarios_tratados } # Criação do Conteúdo para Inserção no Arquivo YAML"
   ]
  },
  {
   "cell_type": "code",
   "execution_count": null,
   "metadata": {},
   "outputs": [],
   "source": [
    "comentarios_yaml"
   ]
  },
  {
   "cell_type": "code",
   "execution_count": null,
   "metadata": {},
   "outputs": [],
   "source": [
    "with open('comentarios_yaml.yml', 'w') as file: #Criação do Arquimo com a Extensão yml com o nome file.\n",
    "    dump(comentarios_yaml, file) #Inserindo os itens da tabela comentarios_yaml no arquivo criado como modo de escrita"
   ]
  }
 ],
 "metadata": {
  "kernelspec": {
   "display_name": "Python 3",
   "language": "python",
   "name": "python3"
  },
  "language_info": {
   "codemirror_mode": {
    "name": "ipython",
    "version": 3
   },
   "file_extension": ".py",
   "mimetype": "text/x-python",
   "name": "python",
   "nbconvert_exporter": "python",
   "pygments_lexer": "ipython3",
   "version": "3.8.5"
  }
 },
 "nbformat": 4,
 "nbformat_minor": 4
}
